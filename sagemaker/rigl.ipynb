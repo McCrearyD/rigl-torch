{
 "cells": [
  {
   "cell_type": "code",
   "execution_count": null,
   "metadata": {},
   "outputs": [],
   "source": [
    "import sagemaker\n",
    "\n",
    "sagemaker_session = sagemaker.Session()\n",
    "\n",
    "bucket = sagemaker_session.default_bucket()\n",
    "prefix = 'sagemaker/rigl'\n",
    "\n",
    "role = sagemaker.get_execution_role()"
   ]
  },
  {
   "cell_type": "code",
   "execution_count": null,
   "metadata": {},
   "outputs": [],
   "source": [
    "sagemaker.__version__"
   ]
  },
  {
   "cell_type": "code",
   "execution_count": null,
   "metadata": {},
   "outputs": [],
   "source": [
    "from sagemaker.pytorch import PyTorch\n",
    "import os\n",
    "\n",
    "instances = 1\n",
    "processes = 8\n",
    "\n",
    "one_day_in_seconds = 86400\n",
    "max_run = one_day_in_seconds * 5\n",
    "\n",
    "estimator = PyTorch(entry_point='train_imagenet_rigl.py',\n",
    "                    source_dir='..',\n",
    "                    role=role,\n",
    "                    framework_version='1.4.0',\n",
    "                    py_version='py3',\n",
    "                    \n",
    "                    base_job_name='rigl',\n",
    "                    \n",
    "                    # Instances Setup\n",
    "                    train_instance_count=instances,\n",
    "                    train_instance_type='ml.p3.16xlarge',\n",
    "                    train_use_spot_instances=True,\n",
    "                    train_max_wait=max_run,\n",
    "                    train_max_run=max_run,\n",
    "                    train_volume_size=300,\n",
    "                    \n",
    "                    hyperparameters={\n",
    "                        'data':'/opt/ml/input/data/training',\n",
    "                        'output-dir': '/opt/ml/model',\n",
    "                        'arch': 'resnet50',\n",
    "                        'workers': 40,\n",
    "                        'dense-allocation': 0.1,\n",
    "                        'static-topo': 0,\n",
    "                        'alpha': 0.3,\n",
    "                        'delta': 100,\n",
    "                        'batch-size': 1024,\n",
    "                        'lr': 0.1,\n",
    "#                         'lr-warmup-end': 5,\n",
    "                        'lr-scaling-stop': 91,\n",
    "                        'epochs': 100,\n",
    "                    },\n",
    "\n",
    "                    metric_definitions=[\n",
    "                        {'Name': 'top1-accuracy', 'Regex': '\\*\\sAcc@1\\s(.*)\\sAcc@5'},\n",
    "                        {'Name': 'top5-accuracy', 'Regex': '\\*\\sAcc@1\\s.*\\sAcc@5\\s(.*)'},\n",
    "                    ]\n",
    "                   )"
   ]
  },
  {
   "cell_type": "code",
   "execution_count": null,
   "metadata": {},
   "outputs": [],
   "source": [
    "# estimator.fit(file_system_input) # train with FSx Lustre as input\n",
    "estimator.fit('s3://imagenet-compressed-oregon') # use imagenet s3 bucket"
   ]
  }
 ],
 "metadata": {
  "kernelspec": {
   "display_name": "conda_pytorch_p36",
   "language": "python",
   "name": "conda_pytorch_p36"
  },
  "language_info": {
   "codemirror_mode": {
    "name": "ipython",
    "version": 3
   },
   "file_extension": ".py",
   "mimetype": "text/x-python",
   "name": "python",
   "nbconvert_exporter": "python",
   "pygments_lexer": "ipython3",
   "version": "3.6.10"
  },
  "notice": "Copyright 2020 Amazon.com, Inc. or its affiliates. All Rights Reserved.  Licensed under the Apache License, Version 2.0 (the \"License\"). You may not use this file except in compliance with the License. A copy of the License is located at http://aws.amazon.com/apache2.0/ or in the \"license\" file accompanying this file. This file is distributed on an \"AS IS\" BASIS, WITHOUT WARRANTIES OR CONDITIONS OF ANY KIND, either express or implied. See the License for the specific language governing permissions and limitations under the License."
 },
 "nbformat": 4,
 "nbformat_minor": 4
}
